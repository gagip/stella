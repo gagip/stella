{
 "cells": [
  {
   "cell_type": "code",
   "execution_count": 1,
   "metadata": {},
   "outputs": [],
   "source": [
    "import cv2\n",
    "import numpy as np\n",
    "import requests\n",
    "from average_hash_matching import *\n",
    "\n",
    "import image_crop"
   ]
  },
  {
   "cell_type": "code",
   "execution_count": 2,
   "metadata": {},
   "outputs": [],
   "source": [
    "url = 'https://www.dlm1947.com/data/goods/2022/product/6I75481_detail_01.jpg'\n",
    "image_nparray = np.asarray(bytearray(requests.get(url).content), dtype=np.uint8)\n",
    "image: np.ndarray = cv2.imdecode(image_nparray, cv2.IMREAD_COLOR)\n",
    "# image = cv2.cvtColor(image, cv2.COLOR_BGR2GRAY)\n",
    "height, width = image.shape[:2] \n",
    "\n",
    "cv2.imshow('dd', image)\n",
    "cv2.waitKey(0)\n",
    "cv2.destroyAllWindows()"
   ]
  },
  {
   "cell_type": "code",
   "execution_count": 3,
   "metadata": {},
   "outputs": [],
   "source": [
    "result = image_crop.separate_by_white_space(image)"
   ]
  },
  {
   "cell_type": "code",
   "execution_count": 4,
   "metadata": {},
   "outputs": [],
   "source": [
    "for r in result:\n",
    "    start = r[0]\n",
    "    end = r[1]\n",
    "    \n",
    "    cv2.imshow(f\"{start}\", image[start:end,:])\n",
    "    cv2.waitKey(0)\n",
    "cv2.destroyAllWindows()"
   ]
  },
  {
   "cell_type": "code",
   "execution_count": 5,
   "metadata": {},
   "outputs": [
    {
     "ename": "NameError",
     "evalue": "name 'is_all_white_index' is not defined",
     "output_type": "error",
     "traceback": [
      "\u001b[1;31m---------------------------------------------------------------------------\u001b[0m",
      "\u001b[1;31mNameError\u001b[0m                                 Traceback (most recent call last)",
      "Cell \u001b[1;32mIn[5], line 1\u001b[0m\n\u001b[1;32m----> 1\u001b[0m is_all_white_index\n",
      "\u001b[1;31mNameError\u001b[0m: name 'is_all_white_index' is not defined"
     ]
    }
   ],
   "source": [
    "is_all_white_index"
   ]
  }
 ],
 "metadata": {
  "kernelspec": {
   "display_name": ".venv",
   "language": "python",
   "name": "python3"
  },
  "language_info": {
   "codemirror_mode": {
    "name": "ipython",
    "version": 3
   },
   "file_extension": ".py",
   "mimetype": "text/x-python",
   "name": "python",
   "nbconvert_exporter": "python",
   "pygments_lexer": "ipython3",
   "version": "3.11.1 (tags/v3.11.1:a7a450f, Dec  6 2022, 19:58:39) [MSC v.1934 64 bit (AMD64)]"
  },
  "orig_nbformat": 4,
  "vscode": {
   "interpreter": {
    "hash": "dfe62aa3bfb2924e540ba755d0a4996623e6e338a89acbf5394585ffd9df42b9"
   }
  }
 },
 "nbformat": 4,
 "nbformat_minor": 2
}
